{
 "cells": [
  {
   "cell_type": "markdown",
   "id": "11c65075-07e0-4cfb-b2f2-3ca56757bda4",
   "metadata": {},
   "source": [
    "Import libraries"
   ]
  },
  {
   "cell_type": "code",
   "execution_count": 1,
   "id": "2d4e41f0-8237-456c-beb5-c3ddd5916eac",
   "metadata": {},
   "outputs": [],
   "source": [
    "import numpy as np\n",
    "import matplotlib.pyplot as plt\n",
    "from scipy.stats import norm as normal\n",
    "\n",
    "# import seaborn as sn #optional, uncomment if you have the seaborn package\n",
    "# sn.set_style(\"whitegrid\")"
   ]
  },
  {
   "cell_type": "markdown",
   "id": "44756e97-7994-4598-a8c2-bee0a2cbcf26",
   "metadata": {},
   "source": [
    "# Markov Chain Example\n",
    "\n",
    "We have a worker that can be either employed or unemployed. If she is employed, she loses her job with probability $\\delta$ in every period, and if she is unemployed, she finds a job with probability $\\alpha$ every period.\n",
    "\n",
    "Call $X_t$ an indicator variable that equals 1 if the worker is employed at time $t$. Then $X_t$ can be represented by a Markov chain with transition matrix\n",
    "\n",
    "$$T = \\begin{bmatrix} 1-\\delta, \\delta \\\\ \\alpha, 1-\\alpha \\end{bmatrix}$$\n",
    "\n",
    "Let's give it some numbers:"
   ]
  },
  {
   "cell_type": "code",
   "execution_count": 8,
   "id": "0a5331a6-96b9-413d-bf5d-a9cffae67f99",
   "metadata": {},
   "outputs": [],
   "source": [
    "delta = 0.03\n",
    "alpha = 0.20\n",
    "\n",
    "T = np.array([[1-delta, delta],\n",
    "              [alpha, 1-alpha]])"
   ]
  },
  {
   "cell_type": "code",
   "execution_count": 16,
   "id": "2b8569c8-ec18-431c-abe7-6f1882d54b4d",
   "metadata": {},
   "outputs": [
    {
     "data": {
      "text/plain": [
       "array([[4.75525079e-002, 5.15377521e-153],\n",
       "       [1.26765060e-070, 2.03703598e-010]])"
      ]
     },
     "execution_count": 16,
     "metadata": {},
     "output_type": "execute_result"
    }
   ],
   "source": [
    "T**100"
   ]
  },
  {
   "cell_type": "code",
   "execution_count": 17,
   "id": "3cefbb21-d015-41d3-a461-274056ce3c05",
   "metadata": {},
   "outputs": [
    {
     "data": {
      "text/plain": [
       "array([4.75525079e-02, 2.03703598e-10])"
      ]
     },
     "execution_count": 17,
     "metadata": {},
     "output_type": "execute_result"
    }
   ],
   "source": [
    "np.diag(T**100)"
   ]
  },
  {
   "cell_type": "code",
   "execution_count": 24,
   "id": "f30cd319-081e-4ddb-997d-bc1801e00b2d",
   "metadata": {},
   "outputs": [
    {
     "data": {
      "text/plain": [
       "array([1.  , 0.77])"
      ]
     },
     "execution_count": 24,
     "metadata": {},
     "output_type": "execute_result"
    }
   ],
   "source": []
  },
  {
   "cell_type": "code",
   "execution_count": 29,
   "id": "e126e203-369e-41a4-b3c1-88d1296190fb",
   "metadata": {},
   "outputs": [
    {
     "data": {
      "text/plain": [
       "array([0.86956522, 0.13043478])"
      ]
     },
     "execution_count": 29,
     "metadata": {},
     "output_type": "execute_result"
    }
   ],
   "source": []
  },
  {
   "cell_type": "markdown",
   "id": "eea40d69-3b92-48e2-8042-e42947a2732d",
   "metadata": {},
   "source": [
    "We showed in class that we can solve for a *state vector* $\\mathbf{s}$ such that\n",
    "\n",
    "$$ \\mathbf{s}T = \\mathbf{s} $$\n",
    "\n",
    "where we call $\\mathbf{s}$ the stationary distribution. The vector $\\mathbf{s}$ codifies the probabilities that one $X_t$ is 1 and 0 before we observe it (so $t$ is in the future). As such, $\\mathbf{s}$ needs to sum to 1 and be as long as the number of posible values (or states) $X_t$ cn take - in our case, either 0 or 1, so a vector of length 2.\n",
    "\n",
    "We can solve the system of equations to find\n",
    "\n",
    "$$ \\mathbf{s} = \\left[ \\frac{\\alpha}{\\alpha+\\delta},\\frac{\\delta}{\\alpha+\\delta} \\right] $$\n",
    "\n",
    "so in our case,"
   ]
  },
  {
   "cell_type": "code",
   "execution_count": 9,
   "id": "8d64e125-217d-4b21-9080-9d2d4ac6d19c",
   "metadata": {},
   "outputs": [
    {
     "name": "stdout",
     "output_type": "stream",
     "text": [
      "s= [0.8696 0.1304]\n"
     ]
    }
   ],
   "source": [
    "e_star = alpha/(alpha+delta)\n",
    "print(r's=',np.array([e_star,1-e_star]).round(4))"
   ]
  },
  {
   "cell_type": "markdown",
   "id": "91a2e40b-affd-431f-b95a-a0d637d50a91",
   "metadata": {},
   "source": [
    "We can also find this using the eigenvalues and eigenvectors decomposition - but please note we need to transpose the transition matrix, as this works when\n",
    "\n",
    "$$ T'\\mathbf{s}' = \\mathbf{s}' $$\n",
    "\n",
    "as I wrote in the slides. So"
   ]
  },
  {
   "cell_type": "code",
   "execution_count": 30,
   "id": "45954eb6-1dfd-43a5-94e2-98a3074922f4",
   "metadata": {},
   "outputs": [
    {
     "data": {
      "text/plain": [
       "array([1.  , 0.77])"
      ]
     },
     "execution_count": 30,
     "metadata": {},
     "output_type": "execute_result"
    }
   ],
   "source": [
    "evals, evecs = np.linalg.eig(T.T)\n",
    "evals"
   ]
  },
  {
   "cell_type": "code",
   "execution_count": 43,
   "id": "27e9b23c-bbe1-4fce-a396-e876a83aafaa",
   "metadata": {},
   "outputs": [
    {
     "data": {
      "text/plain": [
       "array([[0.9469, 0.0531],\n",
       "       [0.354 , 0.646 ]])"
      ]
     },
     "execution_count": 43,
     "metadata": {},
     "output_type": "execute_result"
    }
   ],
   "source": [
    "np.dot(T,T)"
   ]
  },
  {
   "cell_type": "markdown",
   "id": "704e6f99-79fb-4f28-9126-96eab754a5e2",
   "metadata": {},
   "source": [
    "Find the first column of the eigenvectors (as is the one associated with the 1 eigenvalue) and re-sacle it:"
   ]
  },
  {
   "cell_type": "code",
   "execution_count": 31,
   "id": "4e2f0f19-2739-4069-a777-2c85585d2eca",
   "metadata": {},
   "outputs": [
    {
     "data": {
      "text/plain": [
       "array([0.86956522, 0.13043478])"
      ]
     },
     "execution_count": 31,
     "metadata": {},
     "output_type": "execute_result"
    }
   ],
   "source": [
    "evecs[:,0]/np.sum(evecs[:,0])"
   ]
  },
  {
   "cell_type": "markdown",
   "id": "9ce97fcc-df17-4a3d-ad26-ca240bed5fb0",
   "metadata": {},
   "source": [
    "The same!\n",
    "\n",
    "Let's use the fact that the chain is aperiodic and irreducible to raise $T$ to a high power (the python way)"
   ]
  },
  {
   "cell_type": "code",
   "execution_count": 45,
   "id": "a83ce9ff-3954-4428-bbcf-a7586bed5383",
   "metadata": {},
   "outputs": [
    {
     "data": {
      "text/plain": [
       "array([[0.86956898, 0.13043102],\n",
       "       [0.86954016, 0.13045984]])"
      ]
     },
     "execution_count": 45,
     "metadata": {},
     "output_type": "execute_result"
    }
   ],
   "source": [
    "np.linalg.matrix_power(T,40)"
   ]
  },
  {
   "cell_type": "markdown",
   "id": "9536cc68-3218-46a7-84f9-fdf44ccf8ec4",
   "metadata": {},
   "source": [
    "Magic.\n",
    "\n",
    "Let's see if the first number equates the percentage of time the worker will spend on employment after a life (in the working population) of $N$ periods:"
   ]
  },
  {
   "cell_type": "code",
   "execution_count": 9,
   "id": "bf3c2006-87c5-4fcd-8d06-4814b354795f",
   "metadata": {},
   "outputs": [],
   "source": [
    "def simulate_e_path(N,T,X_0=0):\n",
    "    \"\"\"\n",
    "    Simulates the path of a worker, for a given transition matrix T, \n",
    "    where the entries are the probabilities that the path of [X_t,X_t+1] are [11, 10],[01, 00].\n",
    "    N: integer, number of periods for the simulation\n",
    "    T: 2x2 transition Matrix\n",
    "    X_0 (optional argument): where do we start the chain. Default ouption: 0 (unemployment)\n",
    "\n",
    "    Returns:\n",
    "    path: a vector of length N with the simualted path of the worker.\n",
    "    \"\"\"\n",
    "    # Create space - create the path vector (make sure it is an integer vector, which is the second argument of np.zeros)\n",
    "    path = np.zeros(N,dtype=int)\n",
    "    # Set the first value of the vector\n",
    "    path[0] = X_0\n",
    "    # For every time period from 1 to N\n",
    "    for t in range(1,N):\n",
    "        # Find the conditional distribution by looking up the right value of the matrix\n",
    "        # (so if path[t-1] is 1, we pick row 0. Python starts counting from 0, deal with it.)\n",
    "        conditional_dist = T[1-path[t-1],:]\n",
    "        # Draw from a standard uniform. If the value is smaller than the first number of the conditional distribution,\n",
    "        # then the worker's next state will equal 1. Check this makes intuititve sense!\n",
    "        path[t] = int(np.random.random()<conditional_dist[0])\n",
    "    # When we are done, return the path\n",
    "    return path"
   ]
  },
  {
   "cell_type": "markdown",
   "id": "571fcacd-b4d8-42e1-b230-e2d58b2c1184",
   "metadata": {},
   "source": [
    "Let's simulate one path:"
   ]
  },
  {
   "cell_type": "code",
   "execution_count": 14,
   "id": "c84a36e5-6db1-4f6a-87ec-aa4c705fac2d",
   "metadata": {},
   "outputs": [
    {
     "data": {
      "text/plain": [
       "array([0, 0, 1, 1, 1, 1, 1, 1, 1, 1])"
      ]
     },
     "execution_count": 14,
     "metadata": {},
     "output_type": "execute_result"
    }
   ],
   "source": [
    "N = 10\n",
    "path_i = simulate_e_path(N,T)\n",
    "path_i"
   ]
  },
  {
   "cell_type": "markdown",
   "id": "fa629d64-07f4-40d0-86f4-3566e9552004",
   "metadata": {},
   "source": [
    "Calculate what share of time the worker spent in employment by taking an average:"
   ]
  },
  {
   "cell_type": "code",
   "execution_count": 15,
   "id": "3f63ac52-db04-4c46-b49c-bcab3c326173",
   "metadata": {},
   "outputs": [
    {
     "data": {
      "text/plain": [
       "0.8"
      ]
     },
     "execution_count": 15,
     "metadata": {},
     "output_type": "execute_result"
    }
   ],
   "source": [
    "np.sum(path_i)/N"
   ]
  },
  {
   "cell_type": "markdown",
   "id": "878ee782-1a3b-49a5-a151-5eae8bf42699",
   "metadata": {},
   "source": [
    "Not quite the theoretical value. Let's increase $N$..."
   ]
  },
  {
   "cell_type": "code",
   "execution_count": 16,
   "id": "2d522cad-8345-42c6-be04-a5f452b5b472",
   "metadata": {},
   "outputs": [
    {
     "data": {
      "text/plain": [
       "array([0, 0, 0, ..., 1, 1, 1])"
      ]
     },
     "execution_count": 16,
     "metadata": {},
     "output_type": "execute_result"
    }
   ],
   "source": [
    "N = 10000\n",
    "path_i = simulate_e_path(N,T)\n",
    "path_i"
   ]
  },
  {
   "cell_type": "code",
   "execution_count": 17,
   "id": "0c01e5d9-ee2d-4c2d-baed-50e50b5233ae",
   "metadata": {},
   "outputs": [
    {
     "data": {
      "text/plain": [
       "0.8682"
      ]
     },
     "execution_count": 17,
     "metadata": {},
     "output_type": "execute_result"
    }
   ],
   "source": [
    "np.sum(path_i)/N"
   ]
  },
  {
   "cell_type": "markdown",
   "id": "21c713f0-9a2d-4ee5-be1f-04a658612cfb",
   "metadata": {},
   "source": [
    "Compare to the first element of $\\mathbf{s}$"
   ]
  },
  {
   "cell_type": "code",
   "execution_count": 18,
   "id": "0b3a6625-ecac-4fc9-8028-a87233c9c71b",
   "metadata": {},
   "outputs": [
    {
     "data": {
      "text/plain": [
       "0.8695652173913043"
      ]
     },
     "execution_count": 18,
     "metadata": {},
     "output_type": "execute_result"
    }
   ],
   "source": [
    "e_star"
   ]
  },
  {
   "cell_type": "markdown",
   "id": "80b9db47-95a3-4eb4-9a8f-522926e07c54",
   "metadata": {},
   "source": [
    "Very close!\n",
    "\n",
    "## Bonus: Central limit theorem\n",
    "\n",
    "Let's do a bunch (30) of small (10 period) paths and calcualte their means:"
   ]
  },
  {
   "cell_type": "code",
   "execution_count": 40,
   "id": "dc0ab05e-cfbf-45eb-97d4-6a7a5aed62bc",
   "metadata": {},
   "outputs": [
    {
     "data": {
      "text/plain": [
       "array([0.4, 0.1, 0.7, 0. , 0.5, 0.8, 0.7, 0.8, 0.7, 0.9, 0. , 0.2, 0.2,\n",
       "       0.6, 0.9, 0.4, 0.7, 0.9, 0.9, 0.8, 0.5, 0.9, 0.6, 0.4, 0.6, 0.8,\n",
       "       0.6, 0.6, 0.5, 0.3])"
      ]
     },
     "execution_count": 40,
     "metadata": {},
     "output_type": "execute_result"
    }
   ],
   "source": [
    "M = 30\n",
    "N = 10\n",
    "\n",
    "X_bar_M = np.zeros(M)\n",
    "\n",
    "for i in range(M):\n",
    "    X_bar_M[i] = np.average(simulate_e_path(N,T))\n",
    "\n",
    "X_bar_M"
   ]
  },
  {
   "cell_type": "markdown",
   "id": "6cd7cff1-08f4-47c8-aafb-1b4cdc37cda2",
   "metadata": {},
   "source": [
    "Let's plot a histogram (and mark the theoretical value of the mean)"
   ]
  },
  {
   "cell_type": "code",
   "execution_count": 41,
   "id": "b8a5c847-dd73-44c3-a7d8-4809a86bbe1d",
   "metadata": {},
   "outputs": [
    {
     "data": {
      "image/png": "[encoded data removed]",
      "text/plain": [
       "<Figure size 400x300 with 1 Axes>"
      ]
     },
     "metadata": {},
     "output_type": "display_data"
    }
   ],
   "source": [
    "plt.figure(figsize=(4,3))\n",
    "plt.hist(X_bar_M,bins=10)\n",
    "plt.xlim(0,1)\n",
    "plt.axvline(e_star,c='r')\n",
    "plt.show()"
   ]
  },
  {
   "cell_type": "markdown",
   "id": "b6dcff2b-2e82-4c77-91e6-f9799f067ae3",
   "metadata": {},
   "source": [
    "Well that's all over the place! Let's increase $N=100$"
   ]
  },
  {
   "cell_type": "code",
   "execution_count": 42,
   "id": "bfd0a926-a77a-421b-b58c-c32dfc06aaa4",
   "metadata": {},
   "outputs": [
    {
     "data": {
      "image/png": "[encoded data removed]",
      "text/plain": [
       "<Figure size 400x300 with 1 Axes>"
      ]
     },
     "metadata": {},
     "output_type": "display_data"
    }
   ],
   "source": [
    "M = 30\n",
    "N = 100\n",
    "\n",
    "X_bar_M = np.zeros(M)\n",
    "\n",
    "for i in range(M):\n",
    "    X_bar_M[i] = np.average(simulate_e_path(N,T))\n",
    "\n",
    "plt.figure(figsize=(4,3))\n",
    "plt.hist(X_bar_M,bins=10)\n",
    "plt.axvline(e_star,c='r')\n",
    "plt.xlim(0,1)\n",
    "plt.show()"
   ]
  },
  {
   "cell_type": "markdown",
   "id": "a074fb6f-8f8f-4b71-9040-766bd5d61f75",
   "metadata": {},
   "source": [
    "Already much closer to the actual mean! Let's keep going..."
   ]
  },
  {
   "cell_type": "code",
   "execution_count": 43,
   "id": "85838a23-8bd2-489b-ac11-4452b5d7d079",
   "metadata": {},
   "outputs": [
    {
     "data": {
      "image/png": "[encoded data removed]",
      "text/plain": [
       "<Figure size 400x300 with 1 Axes>"
      ]
     },
     "metadata": {},
     "output_type": "display_data"
    }
   ],
   "source": [
    "M = 30\n",
    "N = 1000\n",
    "\n",
    "X_bar_M = np.zeros(M)\n",
    "\n",
    "for i in range(M):\n",
    "    X_bar_M[i] = np.average(simulate_e_path(N,T))\n",
    "\n",
    "plt.figure(figsize=(4,3))\n",
    "plt.hist(X_bar_M,bins=10)\n",
    "plt.xlim(0,1)\n",
    "plt.axvline(e_star,c='r')\n",
    "plt.show()"
   ]
  },
  {
   "cell_type": "markdown",
   "id": "6a0086e8-0fbf-4d90-9b73-0578c5b57d77",
   "metadata": {},
   "source": [
    "And how about a very very large number? (so we get some weak LLN convergence)?"
   ]
  },
  {
   "cell_type": "code",
   "execution_count": 47,
   "id": "ea00a37f-92a3-4c21-b38f-2a927d2afb93",
   "metadata": {},
   "outputs": [
    {
     "data": {
      "image/png": "[encoded data removed]",
      "text/plain": [
       "<Figure size 400x300 with 1 Axes>"
      ]
     },
     "metadata": {},
     "output_type": "display_data"
    }
   ],
   "source": [
    "M = 30\n",
    "N = 100000\n",
    "\n",
    "X_bar_M = np.zeros(M)\n",
    "\n",
    "for i in range(M):\n",
    "    X_bar_M[i] = np.average(simulate_e_path(N,T))\n",
    "\n",
    "plt.figure(figsize=(4,3))\n",
    "plt.hist(X_bar_M,bins=10)\n",
    "plt.xlim(0,1)\n",
    "plt.axvline(e_star,c='r')\n",
    "plt.show()"
   ]
  },
  {
   "cell_type": "markdown",
   "id": "412df227-25c6-4a20-837b-e2ad110a07be",
   "metadata": {},
   "source": [
    "It's had to see, so let's focus on a point between 0.8 and 1:"
   ]
  },
  {
   "cell_type": "code",
   "execution_count": 49,
   "id": "a807191f-1b1c-4110-b845-ecda9c57ef36",
   "metadata": {},
   "outputs": [
    {
     "data": {
      "image/png": "[encoded data removed]",
      "text/plain": [
       "<Figure size 400x300 with 1 Axes>"
      ]
     },
     "metadata": {},
     "output_type": "display_data"
    }
   ],
   "source": [
    "plt.figure(figsize=(4,3))\n",
    "plt.hist(X_bar_M)\n",
    "plt.xlim(0.8,1)\n",
    "plt.axvline(e_star,c='r')\n",
    "plt.show()"
   ]
  },
  {
   "cell_type": "markdown",
   "id": "ad77292d-fb57-468c-b1e4-ab1b11f9d7cd",
   "metadata": {},
   "source": [
    "The means are within an epsilon of the true mean. That's the weak LLN.\n",
    "\n",
    "Back to the example of small $N$, let's generate many small paths and plot them:"
   ]
  },
  {
   "cell_type": "code",
   "execution_count": 104,
   "id": "33c28b16-e4a0-49a4-a574-202bcb38bf82",
   "metadata": {},
   "outputs": [
    {
     "data": {
      "image/png": "[encoded data removed]",
      "text/plain": [
       "<Figure size 400x300 with 1 Axes>"
      ]
     },
     "metadata": {},
     "output_type": "display_data"
    }
   ],
   "source": [
    "M = 1000\n",
    "N = 1000\n",
    "\n",
    "X_bar_M = np.zeros(M)\n",
    "\n",
    "for i in range(M):\n",
    "    X_bar_M[i] = np.average(simulate_e_path(N,T))\n",
    "\n",
    "plt.figure(figsize=(4,3))\n",
    "plt.hist(X_bar_M,bins=30)\n",
    "plt.xlim(0,1)\n",
    "plt.axvline(e_star,c='r')\n",
    "plt.show()"
   ]
  },
  {
   "cell_type": "markdown",
   "id": "a49fce69-9e02-4819-ba9c-eb4d1d6dba68",
   "metadata": {},
   "source": [
    "This case is a bit tricky because we have a *truncated* Normal distribution, so the variance is not going to be quite the same. "
   ]
  },
  {
   "cell_type": "code",
   "execution_count": null,
   "id": "1fa8dd5e-da16-4a5a-afcb-89c27c59d438",
   "metadata": {},
   "outputs": [],
   "source": []
  }
 ],
 "metadata": {
  "kernelspec": {
   "display_name": "Python 3 (ipykernel)",
   "language": "python",
   "name": "python3"
  },
  "language_info": {
   "codemirror_mode": {
    "name": "ipython",
    "version": 3
   },
   "file_extension": ".py",
   "mimetype": "text/x-python",
   "name": "python",
   "nbconvert_exporter": "python",
   "pygments_lexer": "ipython3",
   "version": "3.11.5"
  }
 },
 "nbformat": 4,
 "nbformat_minor": 5
}
